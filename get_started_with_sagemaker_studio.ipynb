{
 "cells": [
  {
   "cell_type": "markdown",
   "metadata": {
    "id": "gBFAfERamaKP"
   },
   "source": [
    "# Example 1: build, train and deploy **all** on SageMaker\r\n",
    "---\r\n",
    "1. Introduction\r\n",
    "2. Prerequisites and Preprocessing\r\n",
    "  1. Permissions and environment variables\r\n",
    "  2. Data ingestion\r\n",
    "  3. Data inspection\r\n",
    "  4. Data conversion\r\n",
    "3. Training the linear model\r\n",
    "4. Set up hosting for the model\r\n",
    "5. Validate the model for use\r\n",
    "---"
   ]
  },
  {
   "cell_type": "markdown",
   "metadata": {
    "id": "yvUPKGcPf0A1"
   },
   "source": [
    "## Introduction\n",
    "\n",
    "Making a Binary Prediction of Whether a Handwritten Digit is a 0.\n",
    "\n",
    "Using Amazon SageMaker's Linear Learner Algorithm.\n",
    "\n",
    "> Amazon SageMaker's Linear Learner algorithm extends upon typical linear models by training many models in parallel, in a computationally efficient manner.  Each model has a different set of hyperparameters, and then the algorithm finds the set that optimizes a specific criteria.  This can provide substantially more accurate models than typical linear algorithms at the same, or lower, cost."
   ]
  },
  {
   "cell_type": "markdown",
   "metadata": {
    "id": "_En_13V1f0A2"
   },
   "source": [
    "## Prequisites and Preprocessing\n",
    "\n",
    "Kernel in SageMaker Studio: Data Science"
   ]
  },
  {
   "cell_type": "code",
   "execution_count": null,
   "metadata": {
    "id": "63hrtbLKf0A2",
    "isConfigCell": true,
    "tags": [
     "parameters"
    ]
   },
   "outputs": [],
   "source": [
    "import sagemaker\n",
    "\n",
    "bucket = sagemaker.Session().default_bucket()\n",
    "prefix = 'sagemaker/DEMO-linear-mnist'\n",
    " \n",
    "# Define IAM role\n",
    "import boto3\n",
    "import re\n",
    "from sagemaker import get_execution_role\n",
    "\n",
    "role = get_execution_role()"
   ]
  },
  {
   "cell_type": "markdown",
   "metadata": {
    "id": "uSps-r8af0A3"
   },
   "source": [
    "### Data ingestion\n",
    "\n",
    "Next, we read the dataset from an online URL into memory, for preprocessing prior to training. This processing could be done *in situ* by Amazon Athena, Apache Spark in Amazon EMR, Amazon Redshift, etc., assuming the dataset is present in the appropriate location. Then, the next step would be to transfer the data to S3 for use in training. For small datasets, such as this one, reading into memory isn't onerous, though it would be for larger datasets."
   ]
  },
  {
   "cell_type": "code",
   "execution_count": null,
   "metadata": {
    "id": "XVyyOaXjf0A3"
   },
   "outputs": [],
   "source": [
    "%%time\n",
    "import pickle, gzip, numpy, json\n",
    "\n",
    "# Manually download mnist.pkl.gz from https://www.kaggle.com/pablotab/mnistpklgz\n",
    "# Upload mnist.pkl.gz to the same directory as this notebook\n",
    "\n",
    "# Load the dataset\n",
    "with gzip.open('./datasets/mnist.pkl.gz', 'rb') as f:\n",
    "    train_set, valid_set, test_set = pickle.load(f, encoding='latin1')"
   ]
  },
  {
   "cell_type": "markdown",
   "metadata": {
    "id": "-n1uN-Xxf0A4"
   },
   "source": [
    "### Data inspection\n",
    "\n",
    "Once the dataset is imported, it's typical as part of the machine learning process to inspect the data, understand the distributions, and determine what type(s) of preprocessing might be needed. You can perform those tasks right here in the notebook. As an example, let's go ahead and look at one of the digits that is part of the dataset."
   ]
  },
  {
   "cell_type": "code",
   "execution_count": null,
   "metadata": {
    "id": "b07A-BClf0A5"
   },
   "outputs": [],
   "source": [
    "%matplotlib inline\n",
    "import matplotlib.pyplot as plt\n",
    "plt.rcParams[\"figure.figsize\"] = (2,10)\n",
    "\n",
    "\n",
    "def show_digit(img, caption='', subplot=None):\n",
    "    if subplot==None:\n",
    "        _,(subplot)=plt.subplots(1,1)\n",
    "    imgr=img.reshape((28,28))\n",
    "    subplot.axis('off')\n",
    "    subplot.imshow(imgr, cmap='gray')\n",
    "    plt.title(caption)\n",
    "\n",
    "show_digit(train_set[0][30], 'This is a {}'.format(train_set[1][30]))"
   ]
  },
  {
   "cell_type": "markdown",
   "metadata": {
    "id": "kAz8xQ8cf0A5"
   },
   "source": [
    "### Data conversion\n",
    "\n",
    "Since algorithms have particular input and output requirements, converting the dataset is also part of the process that a data scientist goes through prior to initiating training. In this particular case, the Amazon SageMaker implementation of Linear Learner takes recordIO-wrapped protobuf, where the data we have today is a pickle-ized numpy array on disk.\n",
    "\n",
    "Most of the conversion effort is handled by the Amazon SageMaker Python SDK, imported as `sagemaker` below."
   ]
  },
  {
   "cell_type": "code",
   "execution_count": null,
   "metadata": {
    "id": "7OwBB3lCf0A5"
   },
   "outputs": [],
   "source": [
    "import io\n",
    "import numpy as np\n",
    "import sagemaker.amazon.common as smac\n",
    "\n",
    "vectors = np.array([t.tolist() for t in train_set[0]]).astype('float32')\n",
    "labels = np.where(np.array([t.tolist() for t in train_set[1]]) == 0, 1, 0).astype('float32')\n",
    "\n",
    "buf = io.BytesIO()\n",
    "smac.write_numpy_to_dense_tensor(buf, vectors, labels)\n",
    "buf.seek(0)"
   ]
  },
  {
   "cell_type": "markdown",
   "metadata": {
    "id": "YoCfe9_Of0A6"
   },
   "source": [
    "## Upload training data\n",
    "Now that we've created our recordIO-wrapped protobuf, we'll need to upload it to S3, so that Amazon SageMaker training can use it."
   ]
  },
  {
   "cell_type": "code",
   "execution_count": null,
   "metadata": {
    "id": "XhZyj28-f0A6",
    "scrolled": true
   },
   "outputs": [],
   "source": [
    "import boto3\n",
    "import os\n",
    "\n",
    "key = 'recordio-pb-data'\n",
    "boto3.resource('s3').Bucket(bucket).Object(os.path.join(prefix, 'train', key)).upload_fileobj(buf)\n",
    "s3_train_data = 's3://{}/{}/train/{}'.format(bucket, prefix, key)\n",
    "print('uploaded training data location: {}'.format(s3_train_data))"
   ]
  },
  {
   "cell_type": "markdown",
   "metadata": {
    "id": "3Hwm27wof0A7"
   },
   "source": [
    "Let's also setup an output S3 location for the model artifact that will be output as the result of training with the algorithm."
   ]
  },
  {
   "cell_type": "code",
   "execution_count": null,
   "metadata": {
    "id": "ez7KqtJtf0A8"
   },
   "outputs": [],
   "source": [
    "output_location = 's3://{}/{}/output'.format(bucket, prefix)\n",
    "print('training artifacts will be uploaded to: {}'.format(output_location))"
   ]
  },
  {
   "cell_type": "markdown",
   "metadata": {
    "id": "2kpotfglf0A9"
   },
   "source": [
    "## Training the linear model\n",
    "\n",
    "Once we have the data preprocessed and available in the correct format for training, the next step is to actually train the model using the data. Since this data is relatively small, it isn't meant to show off the performance of the Linear Learner training algorithm, although we have tested it on multi-terabyte datasets.\n",
    "\n",
    "Again, we'll use the Amazon SageMaker Python SDK to kick off training, and monitor status until it is completed.  In this example that takes between 7 and 11 minutes.  Despite the dataset being small, provisioning hardware and loading the algorithm container take time upfront.\n",
    "\n",
    "First, let's specify our containers.  Since we want this notebook to run in all 4 of Amazon SageMaker's regions, we'll create a small lookup.  More details on algorithm containers can be found in [AWS documentation](https://docs-aws.amazon.com/sagemaker/latest/dg/sagemaker-algo-docker-registry-paths.html)."
   ]
  },
  {
   "cell_type": "code",
   "execution_count": null,
   "metadata": {
    "id": "9qm_8_jVf0A_"
   },
   "outputs": [],
   "source": [
    "from sagemaker.amazon.amazon_estimator import get_image_uri\n",
    "container = get_image_uri(boto3.Session().region_name, 'linear-learner')"
   ]
  },
  {
   "cell_type": "markdown",
   "metadata": {
    "id": "IgZoGBzif0A_"
   },
   "source": [
    "Next we'll kick off the base estimator, making sure to pass in the necessary hyperparameters.  Notice:\n",
    "- `feature_dim` is set to 784, which is the number of pixels in each 28 x 28 image.\n",
    "- `predictor_type` is set to 'binary_classifier' since we are trying to predict whether the image is or is not a 0.\n",
    "- `mini_batch_size` is set to 200.  This value can be tuned for relatively minor improvements in fit and speed, but selecting a reasonable value relative to the dataset is appropriate in most cases."
   ]
  },
  {
   "cell_type": "code",
   "execution_count": null,
   "metadata": {
    "id": "P2aOUwEhf0A_"
   },
   "outputs": [],
   "source": [
    "import boto3\n",
    "\n",
    "sess = sagemaker.Session()\n",
    "\n",
    "linear = sagemaker.estimator.Estimator(container,\n",
    "                                       role, \n",
    "                                       train_instance_count=1, \n",
    "                                       train_instance_type='ml.c5.xlarge',\n",
    "                                       output_path=output_location,\n",
    "                                       sagemaker_session=sess)\n",
    "linear.set_hyperparameters(feature_dim=784,\n",
    "                           predictor_type='binary_classifier',\n",
    "                           mini_batch_size=200)\n",
    "\n",
    "linear.fit({'train': s3_train_data})"
   ]
  },
  {
   "cell_type": "markdown",
   "metadata": {
    "id": "7ZaEOcSYf0BA"
   },
   "source": [
    "## Set up hosting for the model\n",
    "Now that we've trained our model, we can deploy it behind an Amazon SageMaker real-time hosted endpoint.  This will allow us to make predictions (or inference) from the model dyanamically.\n",
    "\n",
    "_Note, Amazon SageMaker allows you the flexibility of importing models trained elsewhere, as well as the choice of not importing models if the target of model creation is AWS Lambda, AWS Greengrass, Amazon Redshift, Amazon Athena, or other deployment target._"
   ]
  },
  {
   "cell_type": "markdown",
   "metadata": {
    "id": "FkjfDax6wBIq"
   },
   "source": [
    "### (optional) Use an existing model trained by SageMaker"
   ]
  },
  {
   "cell_type": "code",
   "execution_count": null,
   "metadata": {
    "id": "09tWw3TUf0BA"
   },
   "outputs": [],
   "source": [
    "# this cell is optional\n",
    "\r\n",
    "job_name = 'linear-learner-2021-02-17-11-19-19-666'\r\n",
    "linear = sagemaker.estimator.Estimator.attach(job_name)"
   ]
  },
  {
   "cell_type": "code",
   "execution_count": null,
   "metadata": {
    "id": "g7Hu_J_Vuvy_"
   },
   "outputs": [],
   "source": [
    "all_instance_types = [\"ml.r5d.12xlarge\", \"ml.r5.12xlarge\", \"ml.p2.xlarge\", \"ml.m5.4xlarge\", \"ml.m4.16xlarge\", \"ml.r5d.24xlarge\", \"ml.r5.24xlarge\", \"ml.p3.16xlarge\", \"ml.m5d.xlarge\", \"ml.m5.large\", \"ml.t2.xlarge\", \"ml.p2.16xlarge\", \"ml.m5d.12xlarge\", \"ml.inf1.2xlarge\", \"ml.m5d.24xlarge\", \"ml.c4.2xlarge\", \"ml.c5.2xlarge\", \"ml.c4.4xlarge\", \"ml.inf1.6xlarge\", \"ml.c5d.2xlarge\", \"ml.c5.4xlarge\", \"ml.g4dn.xlarge\", \"ml.g4dn.12xlarge\", \"ml.c5d.4xlarge\", \"ml.g4dn.2xlarge\", \"ml.c4.8xlarge\", \"ml.c4.large\", \"ml.c5d.xlarge\", \"ml.c5.large\", \"ml.g4dn.4xlarge\", \"ml.c5.9xlarge\", \"ml.g4dn.16xlarge\", \"ml.c5d.large\", \"ml.c5.xlarge\", \"ml.c5d.9xlarge\", \"ml.c4.xlarge\", \"ml.inf1.xlarge\", \"ml.g4dn.8xlarge\", \"ml.inf1.24xlarge\", \"ml.m5d.2xlarge\", \"ml.t2.2xlarge\", \"ml.c5d.18xlarge\", \"ml.m5d.4xlarge\", \"ml.t2.medium\", \"ml.c5.18xlarge\", \"ml.r5d.2xlarge\", \"ml.r5.2xlarge\", \"ml.p3.2xlarge\", \"ml.m5d.large\", \"ml.m5.xlarge\", \"ml.m4.10xlarge\", \"ml.t2.large\", \"ml.r5d.4xlarge\", \"ml.r5.4xlarge\", \"ml.m5.12xlarge\", \"ml.m4.xlarge\", \"ml.m5.24xlarge\", \"ml.m4.2xlarge\", \"ml.p2.8xlarge\", \"ml.m5.2xlarge\", \"ml.r5d.xlarge\", \"ml.r5d.large\", \"ml.r5.xlarge\", \"ml.r5.large\", \"ml.p3.8xlarge\", \"ml.m4.4xlarge\"]\r\n",
    "for i in range(len(all_instance_types)):\r\n",
    "    try:\r\n",
    "        linear_predictor = linear.deploy(initial_instance_count=1, \r\n",
    "                                         instance_type=all_instance_types[i])\r\n",
    "    except:\r\n",
    "        pass\r\n",
    "    else:\r\n",
    "        print('\\nUsing instance type: ', all_instance_types[i])\r\n",
    "        break"
   ]
  },
  {
   "cell_type": "markdown",
   "metadata": {
    "id": "t4pJasN0f0BB"
   },
   "source": [
    "## Validate the model for use\n",
    "Finally, we can now validate the model for use.  We can pass HTTP POST requests to the endpoint to get back predictions.  To make this easier, we'll again use the Amazon SageMaker Python SDK and specify how to serialize requests and deserialize responses that are specific to the algorithm."
   ]
  },
  {
   "cell_type": "code",
   "execution_count": null,
   "metadata": {
    "id": "Wmyed5Mif0BC"
   },
   "outputs": [],
   "source": [
    "from sagemaker.predictor import csv_serializer, json_deserializer\n",
    "\n",
    "# linear_predictor.content_type = 'text/csv'\n",
    "linear_predictor.serializer = csv_serializer\n",
    "linear_predictor.deserializer = json_deserializer"
   ]
  },
  {
   "cell_type": "markdown",
   "metadata": {
    "id": "47lJCCVaf0BD"
   },
   "source": [
    "Now let's try getting a prediction for a single record."
   ]
  },
  {
   "cell_type": "code",
   "execution_count": null,
   "metadata": {
    "id": "UisMxwesf0BD"
   },
   "outputs": [],
   "source": [
    "result = linear_predictor.predict(train_set[0][30:31])\n",
    "print(result)"
   ]
  },
  {
   "cell_type": "markdown",
   "metadata": {
    "id": "cH091_o5f0BD"
   },
   "source": [
    "OK, a single prediction works.  We see that for one record our endpoint returned some JSON which contains `predictions`, including the `score` and `predicted_label`.  In this case, `score` will be a continuous value between [0, 1] representing the probability we think the digit is a 0 or not.  `predicted_label` will take a value of either `0` or `1` where (somewhat counterintuitively) `1` denotes that we predict the image is a 0, while `0` denotes that we are predicting the image is not of a 0.\n",
    "\n",
    "Let's do a whole batch of images and evaluate our predictive accuracy."
   ]
  },
  {
   "cell_type": "code",
   "execution_count": null,
   "metadata": {
    "id": "jG7l1J_Vf0BD"
   },
   "outputs": [],
   "source": [
    "import numpy as np\n",
    "\n",
    "predictions = []\n",
    "for array in np.array_split(test_set[0], 100):\n",
    "    result = linear_predictor.predict(array)\n",
    "    predictions += [r['predicted_label'] for r in result['predictions']]\n",
    "\n",
    "predictions = np.array(predictions)"
   ]
  },
  {
   "cell_type": "code",
   "execution_count": null,
   "metadata": {
    "id": "EthcbgVWf0BE"
   },
   "outputs": [],
   "source": [
    "import pandas as pd\n",
    "\n",
    "pd.crosstab(np.where(test_set[1] == 0, 1, 0), predictions, rownames=['actuals'], colnames=['predictions'])"
   ]
  },
  {
   "cell_type": "markdown",
   "metadata": {
    "id": "XXvM95a3f0BE"
   },
   "source": [
    "As we can see from the confusion matrix above, we predict 931 images of 0 correctly, while we predict 44 images as 0s that aren't, and miss predicting 49 images of 0."
   ]
  },
  {
   "cell_type": "markdown",
   "metadata": {
    "id": "k2MTdWGnf0BE"
   },
   "source": [
    "## (Optional) Clean up\n",
    "\n",
    "To avoid incurring unnecessary charges, use the AWS Management Console to delete the endpoints and resources that you created while running the exercises.\n",
    "\n",
    "\n",
    "The notebook instance. Before deleting the notebook instance, stop it.\n",
    "\n",
    "Under Notebook, choose Notebook instances.\n",
    "\n",
    "Choose the notebook instance that you created in the example, choose Actions, and then choose Stop. The notebook instance takes several minutes to stop. When the Status changes to Stopped, move on to the next step.\n",
    "\n",
    "Choose Actions, and then choose Delete."
   ]
  },
  {
   "cell_type": "markdown",
   "metadata": {
    "id": "BLoIc3fgxmAI"
   },
   "source": [
    "### Delete endpoint"
   ]
  },
  {
   "cell_type": "code",
   "execution_count": null,
   "metadata": {
    "id": "Mf4PAhlYf0BE"
   },
   "outputs": [],
   "source": [
    "sagemaker.Session().delete_endpoint(linear_predictor.endpoint)"
   ]
  },
  {
   "cell_type": "markdown",
   "metadata": {
    "id": "DmwesC8mxq8J"
   },
   "source": [
    "### Delete models"
   ]
  },
  {
   "cell_type": "code",
   "execution_count": null,
   "metadata": {
    "id": "Z630Qm2Bf0BF"
   },
   "outputs": [],
   "source": [
    "import boto3\n",
    "from pprint import pprint\n",
    "\n",
    "client = boto3.client('sagemaker')\n",
    "\n",
    "\n",
    "def main():\n",
    "    model_names = []\n",
    "\n",
    "    for key in paginate(client.list_models):\n",
    "        model_names.append(key['ModelName'])\n",
    "\n",
    "    delete_multiple_models(model_names)\n",
    "\n",
    "\n",
    "def delete_multiple_models(model_names):\n",
    "    for model_name in model_names:\n",
    "        print('Deleting model: {}'.format(model_name))\n",
    "        client.delete_model(ModelName=model_name)\n",
    "\n",
    "\n",
    "def paginate(method, **kwargs):\n",
    "    client = method.__self__\n",
    "    paginator = client.get_paginator(method.__name__)\n",
    "    for page in paginator.paginate(**kwargs).result_key_iters():\n",
    "        for result in page:\n",
    "            yield result\n",
    "\n",
    "main()"
   ]
  },
  {
   "cell_type": "markdown",
   "metadata": {
    "id": "CUrDdq_1yNvB"
   },
   "source": [
    "### Delete S3 bucket\r\n",
    "\r\n",
    "Open the Amazon S3 console at https://console.aws.amazon.com/s3/, and then delete the bucket that you created for storing model artifacts and the training dataset."
   ]
  },
  {
   "cell_type": "markdown",
   "metadata": {
    "id": "pKkVV0fYyT-h"
   },
   "source": [
    "### Delete logs\r\n",
    "\r\n",
    "Open the Amazon CloudWatch console at https://console.aws.amazon.com/cloudwatch/, and then delete all of the log groups that have names starting with /aws/sagemaker/."
   ]
  },
  {
   "cell_type": "markdown",
   "metadata": {
    "id": "PmDSuFIDnJvg"
   },
   "source": [
    "# Example 2: bring own training script\r\n",
    "---\r\n"
   ]
  },
  {
   "cell_type": "markdown",
   "metadata": {
    "id": "809tkUtdnS0r"
   },
   "source": [
    "# Example 3: bring own trained model\r\n",
    "\r\n",
    "---"
   ]
  },
  {
   "cell_type": "markdown",
   "metadata": {
    "id": "DTzTpExqnWlX"
   },
   "source": [
    "# Example 4: bring own algo container\r\n",
    "\r\n",
    "---"
   ]
  },
  {
   "cell_type": "code",
   "execution_count": null,
   "metadata": {},
   "outputs": [],
   "source": []
  }
 ],
 "metadata": {
  "celltoolbar": "Tags",
  "colab": {
   "name": "get_started_with_sagemaker_studio.ipynb",
   "provenance": [],
   "toc_visible": true
  },
  "kernelspec": {
   "display_name": "Python 3 (Data Science)",
   "language": "python",
   "name": "python3__SAGEMAKER_INTERNAL__arn:aws:sagemaker:eu-north-1:243637512696:image/datascience-1.0"
  },
  "language_info": {
   "codemirror_mode": {
    "name": "ipython",
    "version": 3
   },
   "file_extension": ".py",
   "mimetype": "text/x-python",
   "name": "python",
   "nbconvert_exporter": "python",
   "pygments_lexer": "ipython3",
   "version": "3.7.6"
  },
  "notice": "Copyright 2017 Amazon.com, Inc. or its affiliates. All Rights Reserved.  Licensed under the Apache License, Version 2.0 (the \"License\"). You may not use this file except in compliance with the License. A copy of the License is located at http://aws.amazon.com/apache2.0/ or in the \"license\" file accompanying this file. This file is distributed on an \"AS IS\" BASIS, WITHOUT WARRANTIES OR CONDITIONS OF ANY KIND, either express or implied. See the License for the specific language governing permissions and limitations under the License."
 },
 "nbformat": 4,
 "nbformat_minor": 4
}
